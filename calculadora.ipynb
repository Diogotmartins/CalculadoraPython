{
 "cells": [
  {
   "cell_type": "code",
   "execution_count": 1,
   "id": "b75d0ff7",
   "metadata": {},
   "outputs": [
    {
     "name": "stdout",
     "output_type": "stream",
     "text": [
      "******************* Calculadora Python Diogo Martins *******************\n",
      "\n"
     ]
    }
   ],
   "source": [
    "#titulo da calculadora e textos\n",
    "\n",
    "print(\"******************* Calculadora Python Diogo Martins *******************\\n\")"
   ]
  },
  {
   "cell_type": "code",
   "execution_count": 2,
   "id": "123ea9f7",
   "metadata": {},
   "outputs": [],
   "source": [
    "#Definindo funções\n",
    "\n",
    "def soma(x, y):\n",
    "    return x + y\n",
    "def subtração(x, y):\n",
    "    return x - y\n",
    "def divisão(x, y):\n",
    "    return x / y\n",
    "def multiplicação(x, y):\n",
    "    return x * y "
   ]
  },
  {
   "cell_type": "code",
   "execution_count": 3,
   "id": "25b1006b",
   "metadata": {},
   "outputs": [
    {
     "name": "stdout",
     "output_type": "stream",
     "text": [
      "Selecione a opção desejada:\n",
      "\n",
      "1-Adição\n",
      "2-Subtração\n",
      "3-Divisão\n",
      "4-Multiplicação\n"
     ]
    }
   ],
   "source": [
    "print(\"Selecione a opção desejada:\\n\")\n",
    "\n",
    "print(\"1-Adição\")\n",
    "print('2-Subtração')\n",
    "print(\"3-Divisão\")\n",
    "print('4-Multiplicação')"
   ]
  },
  {
   "cell_type": "code",
   "execution_count": 5,
   "id": "7ff19305",
   "metadata": {},
   "outputs": [
    {
     "name": "stdout",
     "output_type": "stream",
     "text": [
      "Digite: 1 , 2 , 3 ou 4 : 4\n"
     ]
    }
   ],
   "source": [
    "escolha = input('Digite: 1 , 2 , 3 ou 4 : ')"
   ]
  },
  {
   "cell_type": "code",
   "execution_count": 6,
   "id": "ec8a977f",
   "metadata": {},
   "outputs": [
    {
     "name": "stdout",
     "output_type": "stream",
     "text": [
      "Digite o primeiro numero:\n",
      "50\n",
      "\n",
      "Digite o segundo numero:\n",
      "150\n",
      "\n",
      "\n",
      "50 * 150 = 7500\n",
      "\n",
      "\n"
     ]
    }
   ],
   "source": [
    "num1 = int(input('Digite o primeiro numero:\\n'))\n",
    "num2 = int(input('\\nDigite o segundo numero:\\n'))\n",
    "\n",
    "if escolha == '1':\n",
    "    print('\\n')\n",
    "    print(num1,'+',num2,'=', soma(num1,num2))\n",
    "    print('\\n')\n",
    "elif escolha == '2':\n",
    "    print('\\n')\n",
    "    print(num1,'-',num2,'=', subtração(num1,num2))\n",
    "    print('\\n')\n",
    "elif escolha == '3':\n",
    "    print('\\n')\n",
    "    print(num1,'/',num2,'=', divisão(num1,num2))\n",
    "    print('\\n')\n",
    "elif escolha == '4':\n",
    "    print('\\n')\n",
    "    print(num1,'*',num2,'=', multiplicação(num1,num2))\n",
    "    print('\\n')\n",
    "else:\n",
    "    print('Opção inválida!')"
   ]
  },
  {
   "cell_type": "code",
   "execution_count": null,
   "id": "88057714",
   "metadata": {},
   "outputs": [],
   "source": []
  },
  {
   "cell_type": "code",
   "execution_count": null,
   "id": "f5929c22",
   "metadata": {},
   "outputs": [],
   "source": []
  }
 ],
 "metadata": {
  "kernelspec": {
   "display_name": "Python 3 (ipykernel)",
   "language": "python",
   "name": "python3"
  },
  "language_info": {
   "codemirror_mode": {
    "name": "ipython",
    "version": 3
   },
   "file_extension": ".py",
   "mimetype": "text/x-python",
   "name": "python",
   "nbconvert_exporter": "python",
   "pygments_lexer": "ipython3",
   "version": "3.9.7"
  }
 },
 "nbformat": 4,
 "nbformat_minor": 5
}
